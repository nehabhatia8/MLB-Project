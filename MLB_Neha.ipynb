{
  "nbformat": 4,
  "nbformat_minor": 0,
  "metadata": {
    "colab": {
      "provenance": [],
      "toc_visible": true
    },
    "kernelspec": {
      "name": "python3",
      "display_name": "Python 3"
    },
    "language_info": {
      "name": "python"
    }
  },
  "cells": [
    {
      "cell_type": "markdown",
      "source": [
        "## Install Packages"
      ],
      "metadata": {
        "id": "xnavaMSKi1kJ"
      }
    },
    {
      "cell_type": "code",
      "source": [
        "!pip install kneed"
      ],
      "metadata": {
        "colab": {
          "base_uri": "https://localhost:8080/"
        },
        "id": "p-JYrXNBwqmH",
        "outputId": "6002208f-38d2-4bac-cc01-ee1837089917"
      },
      "execution_count": 1,
      "outputs": [
        {
          "output_type": "stream",
          "name": "stdout",
          "text": [
            "Looking in indexes: https://pypi.org/simple, https://us-python.pkg.dev/colab-wheels/public/simple/\n",
            "Collecting kneed\n",
            "  Downloading kneed-0.8.2-py3-none-any.whl (10 kB)\n",
            "Requirement already satisfied: scipy>=1.0.0 in /usr/local/lib/python3.9/dist-packages (from kneed) (1.10.1)\n",
            "Requirement already satisfied: numpy>=1.14.2 in /usr/local/lib/python3.9/dist-packages (from kneed) (1.22.4)\n",
            "Installing collected packages: kneed\n",
            "Successfully installed kneed-0.8.2\n"
          ]
        }
      ]
    },
    {
      "cell_type": "markdown",
      "source": [
        "## Load Packages"
      ],
      "metadata": {
        "id": "O6KluiN0i7f3"
      }
    },
    {
      "cell_type": "code",
      "source": [
        "import pandas as pd\n",
        "from sklearn.cluster import KMeans\n",
        "import matplotlib.pyplot as plt\n",
        "import seaborn as sns\n",
        "import scipy.stats as stats\n",
        "from kneed import KneeLocator\n",
        "from sklearn.metrics import silhouette_score\n",
        "import numpy as np"
      ],
      "metadata": {
        "id": "DiB4xqt2lYWL"
      },
      "execution_count": 2,
      "outputs": []
    },
    {
      "cell_type": "markdown",
      "source": [
        "## Load Data"
      ],
      "metadata": {
        "id": "eB-kGSfhTL6W"
      }
    },
    {
      "cell_type": "code",
      "source": [
        "df = pd.read_csv(\"/content/taxonomic_profiles.tsv\", sep=\"\\t\")"
      ],
      "metadata": {
        "id": "llScGSilWLLu"
      },
      "execution_count": 32,
      "outputs": []
    },
    {
      "cell_type": "markdown",
      "source": [
        "## Pre-Process"
      ],
      "metadata": {
        "id": "5ca9mxujaJZZ"
      }
    },
    {
      "cell_type": "markdown",
      "source": [
        "### Set 'Taxonomy' Column as Index"
      ],
      "metadata": {
        "id": "Jqo8tEuXaLPp"
      }
    },
    {
      "cell_type": "code",
      "source": [
        "df = df.set_index(\"taxonomy\")"
      ],
      "metadata": {
        "id": "8TAl-O8GaNs6"
      },
      "execution_count": 33,
      "outputs": []
    },
    {
      "cell_type": "markdown",
      "source": [
        "### Transpose"
      ],
      "metadata": {
        "id": "uTvXpzGtaat_"
      }
    },
    {
      "cell_type": "code",
      "source": [
        "df = df.transpose()"
      ],
      "metadata": {
        "id": "KG5AtXvvbrZy"
      },
      "execution_count": 34,
      "outputs": []
    },
    {
      "cell_type": "code",
      "source": [
        "# Drop the first row (OTU ID)\n",
        "df.drop(df.index[0], inplace=True)"
      ],
      "metadata": {
        "id": "bYVszj5qckK1"
      },
      "execution_count": 35,
      "outputs": []
    },
    {
      "cell_type": "code",
      "source": [
        "df.head()"
      ],
      "metadata": {
        "colab": {
          "base_uri": "https://localhost:8080/",
          "height": 386
        },
        "id": "Wl7DZ8BZbusv",
        "outputId": "5a73c8e9-09ab-484a-cc0a-ccf863f40e47"
      },
      "execution_count": 36,
      "outputs": [
        {
          "output_type": "execute_result",
          "data": {
            "text/plain": [
              "taxonomy Bacteria; __Proteobacteria; __Alphaproteobacteria; __Rhodospirillales; __Acetobacteraceae; __Belnapia  \\\n",
              "206646                                                  0.0                                                      \n",
              "224324                                                  0.0                                                      \n",
              "206619                                                  0.0                                                      \n",
              "224326                                                  0.0                                                      \n",
              "206624                                                 17.0                                                      \n",
              "\n",
              "taxonomy Bacteria; __Proteobacteria; __Betaproteobacteria; __Burkholderiales; __Comamonadaceae; __Tepidimonas  \\\n",
              "206646                                                  0.0                                                     \n",
              "224324                                                  0.0                                                     \n",
              "206619                                                  0.0                                                     \n",
              "224326                                                  0.0                                                     \n",
              "206624                                                  0.0                                                     \n",
              "\n",
              "taxonomy Bacteria; __Firmicutes; __Clostridia; __Clostridiales; __Christensenellaceae; __Christensenellaceae_R_7_group  \\\n",
              "206646                                                  0.0                                                              \n",
              "224324                                                  0.0                                                              \n",
              "206619                                                  0.0                                                              \n",
              "224326                                                  0.0                                                              \n",
              "206624                                                  0.0                                                              \n",
              "\n",
              "taxonomy Bacteria; __Bacteroidetes; __Bacteroidia; __Bacteroidales; __Prevotellaceae; __Prevotella  \\\n",
              "206646                                                  0.0                                          \n",
              "224324                                                  0.0                                          \n",
              "206619                                                  0.0                                          \n",
              "224326                                                  0.0                                          \n",
              "206624                                                  0.0                                          \n",
              "\n",
              "taxonomy Bacteria; __Firmicutes; __Clostridia; __Clostridiales; __Family_XIII; __Family_XIII_AD3011_group  \\\n",
              "206646                                                  1.0                                                 \n",
              "224324                                                  0.0                                                 \n",
              "206619                                                  0.0                                                 \n",
              "224326                                                  0.0                                                 \n",
              "206624                                                  0.0                                                 \n",
              "\n",
              "taxonomy Bacteria; __Proteobacteria; __Alphaproteobacteria; __Rhodobacterales; __Rhodobacteraceae; __Paracoccus  \\\n",
              "206646                                                  0.0                                                       \n",
              "224324                                                  0.0                                                       \n",
              "206619                                                  0.0                                                       \n",
              "224326                                                  0.0                                                       \n",
              "206624                                                  0.0                                                       \n",
              "\n",
              "taxonomy Bacteria; __Firmicutes; __Clostridia; __Clostridiales; __Ruminococcaceae; __Ruminiclostridium  \\\n",
              "206646                                                  2.0                                              \n",
              "224324                                                  0.0                                              \n",
              "206619                                                  0.0                                              \n",
              "224326                                                  0.0                                              \n",
              "206624                                                  0.0                                              \n",
              "\n",
              "taxonomy Bacteria; __Proteobacteria; __Gammaproteobacteria; __Run_SP154; __f; __g  \\\n",
              "206646                                                  0.0                         \n",
              "224324                                                  0.0                         \n",
              "206619                                                  0.0                         \n",
              "224326                                                  0.0                         \n",
              "206624                                                  0.0                         \n",
              "\n",
              "taxonomy Bacteria; __Proteobacteria; __Gammaproteobacteria; __Pasteurellales; __Pasteurellaceae; __Frederiksenia  \\\n",
              "206646                                                  0.0                                                        \n",
              "224324                                                  0.0                                                        \n",
              "206619                                                  0.0                                                        \n",
              "224326                                                  0.0                                                        \n",
              "206624                                                  0.0                                                        \n",
              "\n",
              "taxonomy Bacteria; __Actinobacteria; __Actinobacteria; __Corynebacteriales; __Corynebacteriaceae; __Corynebacterium_1  \\\n",
              "206646                                                  8.0                                                             \n",
              "224324                                                  0.0                                                             \n",
              "206619                                                  0.0                                                             \n",
              "224326                                                  0.0                                                             \n",
              "206624                                                  0.0                                                             \n",
              "\n",
              "taxonomy  ...  \\\n",
              "206646    ...   \n",
              "224324    ...   \n",
              "206619    ...   \n",
              "224326    ...   \n",
              "206624    ...   \n",
              "\n",
              "taxonomy Bacteria; __Firmicutes; __Clostridia; __Clostridiales; __Clostridiales_vadinBB60_group; __g  \\\n",
              "206646                                                  0.0                                            \n",
              "224324                                                  0.0                                            \n",
              "206619                                                  0.0                                            \n",
              "224326                                                  0.0                                            \n",
              "206624                                                  0.0                                            \n",
              "\n",
              "taxonomy Bacteria; __Bacteroidetes; __Bacteroidia; __Bacteroidales; __Prevotellaceae; __Prevotella  \\\n",
              "206646                                                  0.0                                          \n",
              "224324                                                  0.0                                          \n",
              "206619                                                  0.0                                          \n",
              "224326                                                  0.0                                          \n",
              "206624                                                  0.0                                          \n",
              "\n",
              "taxonomy Bacteria; __Tenericutes; __Mollicutes; __Mollicutes_RF9; __f; __g  \\\n",
              "206646                                                  0.0                  \n",
              "224324                                                  0.0                  \n",
              "206619                                                  0.0                  \n",
              "224326                                                  0.0                  \n",
              "206624                                                  0.0                  \n",
              "\n",
              "taxonomy Bacteria; __Proteobacteria; __Alphaproteobacteria; __Rhodospirillales; __Rhodospirillales_Incertae_Sedis; __Candidatus_Alysiosphaera  \\\n",
              "206646                                                  0.0                                                                                     \n",
              "224324                                                  0.0                                                                                     \n",
              "206619                                                  0.0                                                                                     \n",
              "224326                                                  0.0                                                                                     \n",
              "206624                                                  0.0                                                                                     \n",
              "\n",
              "taxonomy Bacteria; __Firmicutes; __Clostridia; __Clostridiales; __Ruminococcaceae; __Ruminococcus_1  \\\n",
              "206646                                                  0.0                                           \n",
              "224324                                                  0.0                                           \n",
              "206619                                                  0.0                                           \n",
              "224326                                                  0.0                                           \n",
              "206624                                                  0.0                                           \n",
              "\n",
              "taxonomy Bacteria; __Firmicutes; __Clostridia; __Clostridiales; __Lachnospiraceae; __Blautia  \\\n",
              "206646                                                481.0                                    \n",
              "224324                                                 16.0                                    \n",
              "206619                                                  4.0                                    \n",
              "224326                                                117.0                                    \n",
              "206624                                                  0.0                                    \n",
              "\n",
              "taxonomy Bacteria; __Bacteroidetes; __Sphingobacteriia; __Sphingobacteriales; __Saprospiraceae; __uncultured  \\\n",
              "206646                                                  0.0                                                    \n",
              "224324                                                  0.0                                                    \n",
              "206619                                                  0.0                                                    \n",
              "224326                                                  0.0                                                    \n",
              "206624                                                  0.0                                                    \n",
              "\n",
              "taxonomy Bacteria; __Firmicutes; __Clostridia; __Clostridiales; __Lachnospiraceae; __Roseburia  \\\n",
              "206646                                                  0.0                                      \n",
              "224324                                                  0.0                                      \n",
              "206619                                                  0.0                                      \n",
              "224326                                                  0.0                                      \n",
              "206624                                                  0.0                                      \n",
              "\n",
              "taxonomy Bacteria; __Firmicutes; __Clostridia; __Clostridiales; __Lachnospiraceae; __uncultured  \\\n",
              "206646                                                  0.0                                       \n",
              "224324                                                  0.0                                       \n",
              "206619                                                  0.0                                       \n",
              "224326                                                  0.0                                       \n",
              "206624                                                  0.0                                       \n",
              "\n",
              "taxonomy Bacteria; __Firmicutes; __Clostridia; __Clostridiales; __Ruminococcaceae; __Ruminococcaceae_UCG_014  \n",
              "206646                                                  0.0                                                   \n",
              "224324                                                  0.0                                                   \n",
              "206619                                                  0.0                                                   \n",
              "224326                                                  0.0                                                   \n",
              "206624                                                  0.0                                                   \n",
              "\n",
              "[5 rows x 982 columns]"
            ],
            "text/html": [
              "\n",
              "  <div id=\"df-dd480566-c110-454c-a2d0-30dee48d0227\">\n",
              "    <div class=\"colab-df-container\">\n",
              "      <div>\n",
              "<style scoped>\n",
              "    .dataframe tbody tr th:only-of-type {\n",
              "        vertical-align: middle;\n",
              "    }\n",
              "\n",
              "    .dataframe tbody tr th {\n",
              "        vertical-align: top;\n",
              "    }\n",
              "\n",
              "    .dataframe thead th {\n",
              "        text-align: right;\n",
              "    }\n",
              "</style>\n",
              "<table border=\"1\" class=\"dataframe\">\n",
              "  <thead>\n",
              "    <tr style=\"text-align: right;\">\n",
              "      <th>taxonomy</th>\n",
              "      <th>Bacteria; __Proteobacteria; __Alphaproteobacteria; __Rhodospirillales; __Acetobacteraceae; __Belnapia</th>\n",
              "      <th>Bacteria; __Proteobacteria; __Betaproteobacteria; __Burkholderiales; __Comamonadaceae; __Tepidimonas</th>\n",
              "      <th>Bacteria; __Firmicutes; __Clostridia; __Clostridiales; __Christensenellaceae; __Christensenellaceae_R_7_group</th>\n",
              "      <th>Bacteria; __Bacteroidetes; __Bacteroidia; __Bacteroidales; __Prevotellaceae; __Prevotella</th>\n",
              "      <th>Bacteria; __Firmicutes; __Clostridia; __Clostridiales; __Family_XIII; __Family_XIII_AD3011_group</th>\n",
              "      <th>Bacteria; __Proteobacteria; __Alphaproteobacteria; __Rhodobacterales; __Rhodobacteraceae; __Paracoccus</th>\n",
              "      <th>Bacteria; __Firmicutes; __Clostridia; __Clostridiales; __Ruminococcaceae; __Ruminiclostridium</th>\n",
              "      <th>Bacteria; __Proteobacteria; __Gammaproteobacteria; __Run_SP154; __f; __g</th>\n",
              "      <th>Bacteria; __Proteobacteria; __Gammaproteobacteria; __Pasteurellales; __Pasteurellaceae; __Frederiksenia</th>\n",
              "      <th>Bacteria; __Actinobacteria; __Actinobacteria; __Corynebacteriales; __Corynebacteriaceae; __Corynebacterium_1</th>\n",
              "      <th>...</th>\n",
              "      <th>Bacteria; __Firmicutes; __Clostridia; __Clostridiales; __Clostridiales_vadinBB60_group; __g</th>\n",
              "      <th>Bacteria; __Bacteroidetes; __Bacteroidia; __Bacteroidales; __Prevotellaceae; __Prevotella</th>\n",
              "      <th>Bacteria; __Tenericutes; __Mollicutes; __Mollicutes_RF9; __f; __g</th>\n",
              "      <th>Bacteria; __Proteobacteria; __Alphaproteobacteria; __Rhodospirillales; __Rhodospirillales_Incertae_Sedis; __Candidatus_Alysiosphaera</th>\n",
              "      <th>Bacteria; __Firmicutes; __Clostridia; __Clostridiales; __Ruminococcaceae; __Ruminococcus_1</th>\n",
              "      <th>Bacteria; __Firmicutes; __Clostridia; __Clostridiales; __Lachnospiraceae; __Blautia</th>\n",
              "      <th>Bacteria; __Bacteroidetes; __Sphingobacteriia; __Sphingobacteriales; __Saprospiraceae; __uncultured</th>\n",
              "      <th>Bacteria; __Firmicutes; __Clostridia; __Clostridiales; __Lachnospiraceae; __Roseburia</th>\n",
              "      <th>Bacteria; __Firmicutes; __Clostridia; __Clostridiales; __Lachnospiraceae; __uncultured</th>\n",
              "      <th>Bacteria; __Firmicutes; __Clostridia; __Clostridiales; __Ruminococcaceae; __Ruminococcaceae_UCG_014</th>\n",
              "    </tr>\n",
              "  </thead>\n",
              "  <tbody>\n",
              "    <tr>\n",
              "      <th>206646</th>\n",
              "      <td>0.0</td>\n",
              "      <td>0.0</td>\n",
              "      <td>0.0</td>\n",
              "      <td>0.0</td>\n",
              "      <td>1.0</td>\n",
              "      <td>0.0</td>\n",
              "      <td>2.0</td>\n",
              "      <td>0.0</td>\n",
              "      <td>0.0</td>\n",
              "      <td>8.0</td>\n",
              "      <td>...</td>\n",
              "      <td>0.0</td>\n",
              "      <td>0.0</td>\n",
              "      <td>0.0</td>\n",
              "      <td>0.0</td>\n",
              "      <td>0.0</td>\n",
              "      <td>481.0</td>\n",
              "      <td>0.0</td>\n",
              "      <td>0.0</td>\n",
              "      <td>0.0</td>\n",
              "      <td>0.0</td>\n",
              "    </tr>\n",
              "    <tr>\n",
              "      <th>224324</th>\n",
              "      <td>0.0</td>\n",
              "      <td>0.0</td>\n",
              "      <td>0.0</td>\n",
              "      <td>0.0</td>\n",
              "      <td>0.0</td>\n",
              "      <td>0.0</td>\n",
              "      <td>0.0</td>\n",
              "      <td>0.0</td>\n",
              "      <td>0.0</td>\n",
              "      <td>0.0</td>\n",
              "      <td>...</td>\n",
              "      <td>0.0</td>\n",
              "      <td>0.0</td>\n",
              "      <td>0.0</td>\n",
              "      <td>0.0</td>\n",
              "      <td>0.0</td>\n",
              "      <td>16.0</td>\n",
              "      <td>0.0</td>\n",
              "      <td>0.0</td>\n",
              "      <td>0.0</td>\n",
              "      <td>0.0</td>\n",
              "    </tr>\n",
              "    <tr>\n",
              "      <th>206619</th>\n",
              "      <td>0.0</td>\n",
              "      <td>0.0</td>\n",
              "      <td>0.0</td>\n",
              "      <td>0.0</td>\n",
              "      <td>0.0</td>\n",
              "      <td>0.0</td>\n",
              "      <td>0.0</td>\n",
              "      <td>0.0</td>\n",
              "      <td>0.0</td>\n",
              "      <td>0.0</td>\n",
              "      <td>...</td>\n",
              "      <td>0.0</td>\n",
              "      <td>0.0</td>\n",
              "      <td>0.0</td>\n",
              "      <td>0.0</td>\n",
              "      <td>0.0</td>\n",
              "      <td>4.0</td>\n",
              "      <td>0.0</td>\n",
              "      <td>0.0</td>\n",
              "      <td>0.0</td>\n",
              "      <td>0.0</td>\n",
              "    </tr>\n",
              "    <tr>\n",
              "      <th>224326</th>\n",
              "      <td>0.0</td>\n",
              "      <td>0.0</td>\n",
              "      <td>0.0</td>\n",
              "      <td>0.0</td>\n",
              "      <td>0.0</td>\n",
              "      <td>0.0</td>\n",
              "      <td>0.0</td>\n",
              "      <td>0.0</td>\n",
              "      <td>0.0</td>\n",
              "      <td>0.0</td>\n",
              "      <td>...</td>\n",
              "      <td>0.0</td>\n",
              "      <td>0.0</td>\n",
              "      <td>0.0</td>\n",
              "      <td>0.0</td>\n",
              "      <td>0.0</td>\n",
              "      <td>117.0</td>\n",
              "      <td>0.0</td>\n",
              "      <td>0.0</td>\n",
              "      <td>0.0</td>\n",
              "      <td>0.0</td>\n",
              "    </tr>\n",
              "    <tr>\n",
              "      <th>206624</th>\n",
              "      <td>17.0</td>\n",
              "      <td>0.0</td>\n",
              "      <td>0.0</td>\n",
              "      <td>0.0</td>\n",
              "      <td>0.0</td>\n",
              "      <td>0.0</td>\n",
              "      <td>0.0</td>\n",
              "      <td>0.0</td>\n",
              "      <td>0.0</td>\n",
              "      <td>0.0</td>\n",
              "      <td>...</td>\n",
              "      <td>0.0</td>\n",
              "      <td>0.0</td>\n",
              "      <td>0.0</td>\n",
              "      <td>0.0</td>\n",
              "      <td>0.0</td>\n",
              "      <td>0.0</td>\n",
              "      <td>0.0</td>\n",
              "      <td>0.0</td>\n",
              "      <td>0.0</td>\n",
              "      <td>0.0</td>\n",
              "    </tr>\n",
              "  </tbody>\n",
              "</table>\n",
              "<p>5 rows × 982 columns</p>\n",
              "</div>\n",
              "      <button class=\"colab-df-convert\" onclick=\"convertToInteractive('df-dd480566-c110-454c-a2d0-30dee48d0227')\"\n",
              "              title=\"Convert this dataframe to an interactive table.\"\n",
              "              style=\"display:none;\">\n",
              "        \n",
              "  <svg xmlns=\"http://www.w3.org/2000/svg\" height=\"24px\"viewBox=\"0 0 24 24\"\n",
              "       width=\"24px\">\n",
              "    <path d=\"M0 0h24v24H0V0z\" fill=\"none\"/>\n",
              "    <path d=\"M18.56 5.44l.94 2.06.94-2.06 2.06-.94-2.06-.94-.94-2.06-.94 2.06-2.06.94zm-11 1L8.5 8.5l.94-2.06 2.06-.94-2.06-.94L8.5 2.5l-.94 2.06-2.06.94zm10 10l.94 2.06.94-2.06 2.06-.94-2.06-.94-.94-2.06-.94 2.06-2.06.94z\"/><path d=\"M17.41 7.96l-1.37-1.37c-.4-.4-.92-.59-1.43-.59-.52 0-1.04.2-1.43.59L10.3 9.45l-7.72 7.72c-.78.78-.78 2.05 0 2.83L4 21.41c.39.39.9.59 1.41.59.51 0 1.02-.2 1.41-.59l7.78-7.78 2.81-2.81c.8-.78.8-2.07 0-2.86zM5.41 20L4 18.59l7.72-7.72 1.47 1.35L5.41 20z\"/>\n",
              "  </svg>\n",
              "      </button>\n",
              "      \n",
              "  <style>\n",
              "    .colab-df-container {\n",
              "      display:flex;\n",
              "      flex-wrap:wrap;\n",
              "      gap: 12px;\n",
              "    }\n",
              "\n",
              "    .colab-df-convert {\n",
              "      background-color: #E8F0FE;\n",
              "      border: none;\n",
              "      border-radius: 50%;\n",
              "      cursor: pointer;\n",
              "      display: none;\n",
              "      fill: #1967D2;\n",
              "      height: 32px;\n",
              "      padding: 0 0 0 0;\n",
              "      width: 32px;\n",
              "    }\n",
              "\n",
              "    .colab-df-convert:hover {\n",
              "      background-color: #E2EBFA;\n",
              "      box-shadow: 0px 1px 2px rgba(60, 64, 67, 0.3), 0px 1px 3px 1px rgba(60, 64, 67, 0.15);\n",
              "      fill: #174EA6;\n",
              "    }\n",
              "\n",
              "    [theme=dark] .colab-df-convert {\n",
              "      background-color: #3B4455;\n",
              "      fill: #D2E3FC;\n",
              "    }\n",
              "\n",
              "    [theme=dark] .colab-df-convert:hover {\n",
              "      background-color: #434B5C;\n",
              "      box-shadow: 0px 1px 3px 1px rgba(0, 0, 0, 0.15);\n",
              "      filter: drop-shadow(0px 1px 2px rgba(0, 0, 0, 0.3));\n",
              "      fill: #FFFFFF;\n",
              "    }\n",
              "  </style>\n",
              "\n",
              "      <script>\n",
              "        const buttonEl =\n",
              "          document.querySelector('#df-dd480566-c110-454c-a2d0-30dee48d0227 button.colab-df-convert');\n",
              "        buttonEl.style.display =\n",
              "          google.colab.kernel.accessAllowed ? 'block' : 'none';\n",
              "\n",
              "        async function convertToInteractive(key) {\n",
              "          const element = document.querySelector('#df-dd480566-c110-454c-a2d0-30dee48d0227');\n",
              "          const dataTable =\n",
              "            await google.colab.kernel.invokeFunction('convertToInteractive',\n",
              "                                                     [key], {});\n",
              "          if (!dataTable) return;\n",
              "\n",
              "          const docLinkHtml = 'Like what you see? Visit the ' +\n",
              "            '<a target=\"_blank\" href=https://colab.research.google.com/notebooks/data_table.ipynb>data table notebook</a>'\n",
              "            + ' to learn more about interactive tables.';\n",
              "          element.innerHTML = '';\n",
              "          dataTable['output_type'] = 'display_data';\n",
              "          await google.colab.output.renderOutput(dataTable, element);\n",
              "          const docLink = document.createElement('div');\n",
              "          docLink.innerHTML = docLinkHtml;\n",
              "          element.appendChild(docLink);\n",
              "        }\n",
              "      </script>\n",
              "    </div>\n",
              "  </div>\n",
              "  "
            ]
          },
          "metadata": {},
          "execution_count": 36
        }
      ]
    },
    {
      "cell_type": "markdown",
      "source": [
        "### Relative Abundance Normalization"
      ],
      "metadata": {
        "id": "azohgfWoc58n"
      }
    },
    {
      "cell_type": "code",
      "source": [
        "def normalize(row):\n",
        "    total = row.sum()\n",
        "    return row / total\n",
        "\n",
        "df = df.apply(normalize, axis=1)"
      ],
      "metadata": {
        "id": "gEhv6WTpc76F"
      },
      "execution_count": 37,
      "outputs": []
    },
    {
      "cell_type": "code",
      "source": [
        "df.head()"
      ],
      "metadata": {
        "id": "1GW0yNjwfUqV",
        "outputId": "0aa62b54-98d6-4086-ebee-1c9de640ea1d",
        "colab": {
          "base_uri": "https://localhost:8080/",
          "height": 386
        }
      },
      "execution_count": 38,
      "outputs": [
        {
          "output_type": "execute_result",
          "data": {
            "text/plain": [
              "taxonomy  Bacteria; __Proteobacteria; __Alphaproteobacteria; __Rhodospirillales; __Acetobacteraceae; __Belnapia  \\\n",
              "206646                                             0.000000                                                       \n",
              "224324                                             0.000000                                                       \n",
              "206619                                             0.000000                                                       \n",
              "224326                                             0.000000                                                       \n",
              "206624                                             0.023743                                                       \n",
              "\n",
              "taxonomy  Bacteria; __Proteobacteria; __Betaproteobacteria; __Burkholderiales; __Comamonadaceae; __Tepidimonas  \\\n",
              "206646                                                  0.0                                                      \n",
              "224324                                                  0.0                                                      \n",
              "206619                                                  0.0                                                      \n",
              "224326                                                  0.0                                                      \n",
              "206624                                                  0.0                                                      \n",
              "\n",
              "taxonomy  Bacteria; __Firmicutes; __Clostridia; __Clostridiales; __Christensenellaceae; __Christensenellaceae_R_7_group  \\\n",
              "206646                                                  0.0                                                               \n",
              "224324                                                  0.0                                                               \n",
              "206619                                                  0.0                                                               \n",
              "224326                                                  0.0                                                               \n",
              "206624                                                  0.0                                                               \n",
              "\n",
              "taxonomy  Bacteria; __Bacteroidetes; __Bacteroidia; __Bacteroidales; __Prevotellaceae; __Prevotella  \\\n",
              "206646                                                  0.0                                           \n",
              "224324                                                  0.0                                           \n",
              "206619                                                  0.0                                           \n",
              "224326                                                  0.0                                           \n",
              "206624                                                  0.0                                           \n",
              "\n",
              "taxonomy  Bacteria; __Firmicutes; __Clostridia; __Clostridiales; __Family_XIII; __Family_XIII_AD3011_group  \\\n",
              "206646                                             0.000042                                                  \n",
              "224324                                             0.000000                                                  \n",
              "206619                                             0.000000                                                  \n",
              "224326                                             0.000000                                                  \n",
              "206624                                             0.000000                                                  \n",
              "\n",
              "taxonomy  Bacteria; __Proteobacteria; __Alphaproteobacteria; __Rhodobacterales; __Rhodobacteraceae; __Paracoccus  \\\n",
              "206646                                                  0.0                                                        \n",
              "224324                                                  0.0                                                        \n",
              "206619                                                  0.0                                                        \n",
              "224326                                                  0.0                                                        \n",
              "206624                                                  0.0                                                        \n",
              "\n",
              "taxonomy  Bacteria; __Firmicutes; __Clostridia; __Clostridiales; __Ruminococcaceae; __Ruminiclostridium  \\\n",
              "206646                                             0.000085                                               \n",
              "224324                                             0.000000                                               \n",
              "206619                                             0.000000                                               \n",
              "224326                                             0.000000                                               \n",
              "206624                                             0.000000                                               \n",
              "\n",
              "taxonomy  Bacteria; __Proteobacteria; __Gammaproteobacteria; __Run_SP154; __f; __g  \\\n",
              "206646                                                  0.0                          \n",
              "224324                                                  0.0                          \n",
              "206619                                                  0.0                          \n",
              "224326                                                  0.0                          \n",
              "206624                                                  0.0                          \n",
              "\n",
              "taxonomy  Bacteria; __Proteobacteria; __Gammaproteobacteria; __Pasteurellales; __Pasteurellaceae; __Frederiksenia  \\\n",
              "206646                                                  0.0                                                         \n",
              "224324                                                  0.0                                                         \n",
              "206619                                                  0.0                                                         \n",
              "224326                                                  0.0                                                         \n",
              "206624                                                  0.0                                                         \n",
              "\n",
              "taxonomy  Bacteria; __Actinobacteria; __Actinobacteria; __Corynebacteriales; __Corynebacteriaceae; __Corynebacterium_1  \\\n",
              "206646                                             0.000339                                                              \n",
              "224324                                             0.000000                                                              \n",
              "206619                                             0.000000                                                              \n",
              "224326                                             0.000000                                                              \n",
              "206624                                             0.000000                                                              \n",
              "\n",
              "taxonomy  ...  \\\n",
              "206646    ...   \n",
              "224324    ...   \n",
              "206619    ...   \n",
              "224326    ...   \n",
              "206624    ...   \n",
              "\n",
              "taxonomy  Bacteria; __Firmicutes; __Clostridia; __Clostridiales; __Clostridiales_vadinBB60_group; __g  \\\n",
              "206646                                                  0.0                                             \n",
              "224324                                                  0.0                                             \n",
              "206619                                                  0.0                                             \n",
              "224326                                                  0.0                                             \n",
              "206624                                                  0.0                                             \n",
              "\n",
              "taxonomy  Bacteria; __Bacteroidetes; __Bacteroidia; __Bacteroidales; __Prevotellaceae; __Prevotella  \\\n",
              "206646                                                  0.0                                           \n",
              "224324                                                  0.0                                           \n",
              "206619                                                  0.0                                           \n",
              "224326                                                  0.0                                           \n",
              "206624                                                  0.0                                           \n",
              "\n",
              "taxonomy  Bacteria; __Tenericutes; __Mollicutes; __Mollicutes_RF9; __f; __g  \\\n",
              "206646                                                  0.0                   \n",
              "224324                                                  0.0                   \n",
              "206619                                                  0.0                   \n",
              "224326                                                  0.0                   \n",
              "206624                                                  0.0                   \n",
              "\n",
              "taxonomy  Bacteria; __Proteobacteria; __Alphaproteobacteria; __Rhodospirillales; __Rhodospirillales_Incertae_Sedis; __Candidatus_Alysiosphaera  \\\n",
              "206646                                                  0.0                                                                                      \n",
              "224324                                                  0.0                                                                                      \n",
              "206619                                                  0.0                                                                                      \n",
              "224326                                                  0.0                                                                                      \n",
              "206624                                                  0.0                                                                                      \n",
              "\n",
              "taxonomy  Bacteria; __Firmicutes; __Clostridia; __Clostridiales; __Ruminococcaceae; __Ruminococcus_1  \\\n",
              "206646                                                  0.0                                            \n",
              "224324                                                  0.0                                            \n",
              "206619                                                  0.0                                            \n",
              "224326                                                  0.0                                            \n",
              "206624                                                  0.0                                            \n",
              "\n",
              "taxonomy  Bacteria; __Firmicutes; __Clostridia; __Clostridiales; __Lachnospiraceae; __Blautia  \\\n",
              "206646                                             0.020375                                     \n",
              "224324                                             0.000689                                     \n",
              "206619                                             0.001242                                     \n",
              "224326                                             0.003918                                     \n",
              "206624                                             0.000000                                     \n",
              "\n",
              "taxonomy  Bacteria; __Bacteroidetes; __Sphingobacteriia; __Sphingobacteriales; __Saprospiraceae; __uncultured  \\\n",
              "206646                                                  0.0                                                     \n",
              "224324                                                  0.0                                                     \n",
              "206619                                                  0.0                                                     \n",
              "224326                                                  0.0                                                     \n",
              "206624                                                  0.0                                                     \n",
              "\n",
              "taxonomy  Bacteria; __Firmicutes; __Clostridia; __Clostridiales; __Lachnospiraceae; __Roseburia  \\\n",
              "206646                                                  0.0                                       \n",
              "224324                                                  0.0                                       \n",
              "206619                                                  0.0                                       \n",
              "224326                                                  0.0                                       \n",
              "206624                                                  0.0                                       \n",
              "\n",
              "taxonomy  Bacteria; __Firmicutes; __Clostridia; __Clostridiales; __Lachnospiraceae; __uncultured  \\\n",
              "206646                                                  0.0                                        \n",
              "224324                                                  0.0                                        \n",
              "206619                                                  0.0                                        \n",
              "224326                                                  0.0                                        \n",
              "206624                                                  0.0                                        \n",
              "\n",
              "taxonomy  Bacteria; __Firmicutes; __Clostridia; __Clostridiales; __Ruminococcaceae; __Ruminococcaceae_UCG_014  \n",
              "206646                                                  0.0                                                    \n",
              "224324                                                  0.0                                                    \n",
              "206619                                                  0.0                                                    \n",
              "224326                                                  0.0                                                    \n",
              "206624                                                  0.0                                                    \n",
              "\n",
              "[5 rows x 982 columns]"
            ],
            "text/html": [
              "\n",
              "  <div id=\"df-f4b04d48-469a-4484-b7f4-6d687560a787\">\n",
              "    <div class=\"colab-df-container\">\n",
              "      <div>\n",
              "<style scoped>\n",
              "    .dataframe tbody tr th:only-of-type {\n",
              "        vertical-align: middle;\n",
              "    }\n",
              "\n",
              "    .dataframe tbody tr th {\n",
              "        vertical-align: top;\n",
              "    }\n",
              "\n",
              "    .dataframe thead th {\n",
              "        text-align: right;\n",
              "    }\n",
              "</style>\n",
              "<table border=\"1\" class=\"dataframe\">\n",
              "  <thead>\n",
              "    <tr style=\"text-align: right;\">\n",
              "      <th>taxonomy</th>\n",
              "      <th>Bacteria; __Proteobacteria; __Alphaproteobacteria; __Rhodospirillales; __Acetobacteraceae; __Belnapia</th>\n",
              "      <th>Bacteria; __Proteobacteria; __Betaproteobacteria; __Burkholderiales; __Comamonadaceae; __Tepidimonas</th>\n",
              "      <th>Bacteria; __Firmicutes; __Clostridia; __Clostridiales; __Christensenellaceae; __Christensenellaceae_R_7_group</th>\n",
              "      <th>Bacteria; __Bacteroidetes; __Bacteroidia; __Bacteroidales; __Prevotellaceae; __Prevotella</th>\n",
              "      <th>Bacteria; __Firmicutes; __Clostridia; __Clostridiales; __Family_XIII; __Family_XIII_AD3011_group</th>\n",
              "      <th>Bacteria; __Proteobacteria; __Alphaproteobacteria; __Rhodobacterales; __Rhodobacteraceae; __Paracoccus</th>\n",
              "      <th>Bacteria; __Firmicutes; __Clostridia; __Clostridiales; __Ruminococcaceae; __Ruminiclostridium</th>\n",
              "      <th>Bacteria; __Proteobacteria; __Gammaproteobacteria; __Run_SP154; __f; __g</th>\n",
              "      <th>Bacteria; __Proteobacteria; __Gammaproteobacteria; __Pasteurellales; __Pasteurellaceae; __Frederiksenia</th>\n",
              "      <th>Bacteria; __Actinobacteria; __Actinobacteria; __Corynebacteriales; __Corynebacteriaceae; __Corynebacterium_1</th>\n",
              "      <th>...</th>\n",
              "      <th>Bacteria; __Firmicutes; __Clostridia; __Clostridiales; __Clostridiales_vadinBB60_group; __g</th>\n",
              "      <th>Bacteria; __Bacteroidetes; __Bacteroidia; __Bacteroidales; __Prevotellaceae; __Prevotella</th>\n",
              "      <th>Bacteria; __Tenericutes; __Mollicutes; __Mollicutes_RF9; __f; __g</th>\n",
              "      <th>Bacteria; __Proteobacteria; __Alphaproteobacteria; __Rhodospirillales; __Rhodospirillales_Incertae_Sedis; __Candidatus_Alysiosphaera</th>\n",
              "      <th>Bacteria; __Firmicutes; __Clostridia; __Clostridiales; __Ruminococcaceae; __Ruminococcus_1</th>\n",
              "      <th>Bacteria; __Firmicutes; __Clostridia; __Clostridiales; __Lachnospiraceae; __Blautia</th>\n",
              "      <th>Bacteria; __Bacteroidetes; __Sphingobacteriia; __Sphingobacteriales; __Saprospiraceae; __uncultured</th>\n",
              "      <th>Bacteria; __Firmicutes; __Clostridia; __Clostridiales; __Lachnospiraceae; __Roseburia</th>\n",
              "      <th>Bacteria; __Firmicutes; __Clostridia; __Clostridiales; __Lachnospiraceae; __uncultured</th>\n",
              "      <th>Bacteria; __Firmicutes; __Clostridia; __Clostridiales; __Ruminococcaceae; __Ruminococcaceae_UCG_014</th>\n",
              "    </tr>\n",
              "  </thead>\n",
              "  <tbody>\n",
              "    <tr>\n",
              "      <th>206646</th>\n",
              "      <td>0.000000</td>\n",
              "      <td>0.0</td>\n",
              "      <td>0.0</td>\n",
              "      <td>0.0</td>\n",
              "      <td>0.000042</td>\n",
              "      <td>0.0</td>\n",
              "      <td>0.000085</td>\n",
              "      <td>0.0</td>\n",
              "      <td>0.0</td>\n",
              "      <td>0.000339</td>\n",
              "      <td>...</td>\n",
              "      <td>0.0</td>\n",
              "      <td>0.0</td>\n",
              "      <td>0.0</td>\n",
              "      <td>0.0</td>\n",
              "      <td>0.0</td>\n",
              "      <td>0.020375</td>\n",
              "      <td>0.0</td>\n",
              "      <td>0.0</td>\n",
              "      <td>0.0</td>\n",
              "      <td>0.0</td>\n",
              "    </tr>\n",
              "    <tr>\n",
              "      <th>224324</th>\n",
              "      <td>0.000000</td>\n",
              "      <td>0.0</td>\n",
              "      <td>0.0</td>\n",
              "      <td>0.0</td>\n",
              "      <td>0.000000</td>\n",
              "      <td>0.0</td>\n",
              "      <td>0.000000</td>\n",
              "      <td>0.0</td>\n",
              "      <td>0.0</td>\n",
              "      <td>0.000000</td>\n",
              "      <td>...</td>\n",
              "      <td>0.0</td>\n",
              "      <td>0.0</td>\n",
              "      <td>0.0</td>\n",
              "      <td>0.0</td>\n",
              "      <td>0.0</td>\n",
              "      <td>0.000689</td>\n",
              "      <td>0.0</td>\n",
              "      <td>0.0</td>\n",
              "      <td>0.0</td>\n",
              "      <td>0.0</td>\n",
              "    </tr>\n",
              "    <tr>\n",
              "      <th>206619</th>\n",
              "      <td>0.000000</td>\n",
              "      <td>0.0</td>\n",
              "      <td>0.0</td>\n",
              "      <td>0.0</td>\n",
              "      <td>0.000000</td>\n",
              "      <td>0.0</td>\n",
              "      <td>0.000000</td>\n",
              "      <td>0.0</td>\n",
              "      <td>0.0</td>\n",
              "      <td>0.000000</td>\n",
              "      <td>...</td>\n",
              "      <td>0.0</td>\n",
              "      <td>0.0</td>\n",
              "      <td>0.0</td>\n",
              "      <td>0.0</td>\n",
              "      <td>0.0</td>\n",
              "      <td>0.001242</td>\n",
              "      <td>0.0</td>\n",
              "      <td>0.0</td>\n",
              "      <td>0.0</td>\n",
              "      <td>0.0</td>\n",
              "    </tr>\n",
              "    <tr>\n",
              "      <th>224326</th>\n",
              "      <td>0.000000</td>\n",
              "      <td>0.0</td>\n",
              "      <td>0.0</td>\n",
              "      <td>0.0</td>\n",
              "      <td>0.000000</td>\n",
              "      <td>0.0</td>\n",
              "      <td>0.000000</td>\n",
              "      <td>0.0</td>\n",
              "      <td>0.0</td>\n",
              "      <td>0.000000</td>\n",
              "      <td>...</td>\n",
              "      <td>0.0</td>\n",
              "      <td>0.0</td>\n",
              "      <td>0.0</td>\n",
              "      <td>0.0</td>\n",
              "      <td>0.0</td>\n",
              "      <td>0.003918</td>\n",
              "      <td>0.0</td>\n",
              "      <td>0.0</td>\n",
              "      <td>0.0</td>\n",
              "      <td>0.0</td>\n",
              "    </tr>\n",
              "    <tr>\n",
              "      <th>206624</th>\n",
              "      <td>0.023743</td>\n",
              "      <td>0.0</td>\n",
              "      <td>0.0</td>\n",
              "      <td>0.0</td>\n",
              "      <td>0.000000</td>\n",
              "      <td>0.0</td>\n",
              "      <td>0.000000</td>\n",
              "      <td>0.0</td>\n",
              "      <td>0.0</td>\n",
              "      <td>0.000000</td>\n",
              "      <td>...</td>\n",
              "      <td>0.0</td>\n",
              "      <td>0.0</td>\n",
              "      <td>0.0</td>\n",
              "      <td>0.0</td>\n",
              "      <td>0.0</td>\n",
              "      <td>0.000000</td>\n",
              "      <td>0.0</td>\n",
              "      <td>0.0</td>\n",
              "      <td>0.0</td>\n",
              "      <td>0.0</td>\n",
              "    </tr>\n",
              "  </tbody>\n",
              "</table>\n",
              "<p>5 rows × 982 columns</p>\n",
              "</div>\n",
              "      <button class=\"colab-df-convert\" onclick=\"convertToInteractive('df-f4b04d48-469a-4484-b7f4-6d687560a787')\"\n",
              "              title=\"Convert this dataframe to an interactive table.\"\n",
              "              style=\"display:none;\">\n",
              "        \n",
              "  <svg xmlns=\"http://www.w3.org/2000/svg\" height=\"24px\"viewBox=\"0 0 24 24\"\n",
              "       width=\"24px\">\n",
              "    <path d=\"M0 0h24v24H0V0z\" fill=\"none\"/>\n",
              "    <path d=\"M18.56 5.44l.94 2.06.94-2.06 2.06-.94-2.06-.94-.94-2.06-.94 2.06-2.06.94zm-11 1L8.5 8.5l.94-2.06 2.06-.94-2.06-.94L8.5 2.5l-.94 2.06-2.06.94zm10 10l.94 2.06.94-2.06 2.06-.94-2.06-.94-.94-2.06-.94 2.06-2.06.94z\"/><path d=\"M17.41 7.96l-1.37-1.37c-.4-.4-.92-.59-1.43-.59-.52 0-1.04.2-1.43.59L10.3 9.45l-7.72 7.72c-.78.78-.78 2.05 0 2.83L4 21.41c.39.39.9.59 1.41.59.51 0 1.02-.2 1.41-.59l7.78-7.78 2.81-2.81c.8-.78.8-2.07 0-2.86zM5.41 20L4 18.59l7.72-7.72 1.47 1.35L5.41 20z\"/>\n",
              "  </svg>\n",
              "      </button>\n",
              "      \n",
              "  <style>\n",
              "    .colab-df-container {\n",
              "      display:flex;\n",
              "      flex-wrap:wrap;\n",
              "      gap: 12px;\n",
              "    }\n",
              "\n",
              "    .colab-df-convert {\n",
              "      background-color: #E8F0FE;\n",
              "      border: none;\n",
              "      border-radius: 50%;\n",
              "      cursor: pointer;\n",
              "      display: none;\n",
              "      fill: #1967D2;\n",
              "      height: 32px;\n",
              "      padding: 0 0 0 0;\n",
              "      width: 32px;\n",
              "    }\n",
              "\n",
              "    .colab-df-convert:hover {\n",
              "      background-color: #E2EBFA;\n",
              "      box-shadow: 0px 1px 2px rgba(60, 64, 67, 0.3), 0px 1px 3px 1px rgba(60, 64, 67, 0.15);\n",
              "      fill: #174EA6;\n",
              "    }\n",
              "\n",
              "    [theme=dark] .colab-df-convert {\n",
              "      background-color: #3B4455;\n",
              "      fill: #D2E3FC;\n",
              "    }\n",
              "\n",
              "    [theme=dark] .colab-df-convert:hover {\n",
              "      background-color: #434B5C;\n",
              "      box-shadow: 0px 1px 3px 1px rgba(0, 0, 0, 0.15);\n",
              "      filter: drop-shadow(0px 1px 2px rgba(0, 0, 0, 0.3));\n",
              "      fill: #FFFFFF;\n",
              "    }\n",
              "  </style>\n",
              "\n",
              "      <script>\n",
              "        const buttonEl =\n",
              "          document.querySelector('#df-f4b04d48-469a-4484-b7f4-6d687560a787 button.colab-df-convert');\n",
              "        buttonEl.style.display =\n",
              "          google.colab.kernel.accessAllowed ? 'block' : 'none';\n",
              "\n",
              "        async function convertToInteractive(key) {\n",
              "          const element = document.querySelector('#df-f4b04d48-469a-4484-b7f4-6d687560a787');\n",
              "          const dataTable =\n",
              "            await google.colab.kernel.invokeFunction('convertToInteractive',\n",
              "                                                     [key], {});\n",
              "          if (!dataTable) return;\n",
              "\n",
              "          const docLinkHtml = 'Like what you see? Visit the ' +\n",
              "            '<a target=\"_blank\" href=https://colab.research.google.com/notebooks/data_table.ipynb>data table notebook</a>'\n",
              "            + ' to learn more about interactive tables.';\n",
              "          element.innerHTML = '';\n",
              "          dataTable['output_type'] = 'display_data';\n",
              "          await google.colab.output.renderOutput(dataTable, element);\n",
              "          const docLink = document.createElement('div');\n",
              "          docLink.innerHTML = docLinkHtml;\n",
              "          element.appendChild(docLink);\n",
              "        }\n",
              "      </script>\n",
              "    </div>\n",
              "  </div>\n",
              "  "
            ]
          },
          "metadata": {},
          "execution_count": 38
        }
      ]
    },
    {
      "cell_type": "markdown",
      "source": [
        "### Keep One Duplicate Column Only"
      ],
      "metadata": {
        "id": "273yp4vuWOXI"
      }
    },
    {
      "cell_type": "code",
      "source": [
        "if df.columns.duplicated().any():\n",
        "    print(\"There are duplicate column names in the dataframe\")\n",
        "else:\n",
        "    print(\"There are no duplicate column names in the dataframe\")"
      ],
      "metadata": {
        "colab": {
          "base_uri": "https://localhost:8080/"
        },
        "id": "ZnAwU6UqdnrW",
        "outputId": "a3a1a510-c1dc-4e9c-c24e-98f439b71fcd"
      },
      "execution_count": 39,
      "outputs": [
        {
          "output_type": "stream",
          "name": "stdout",
          "text": [
            "There are duplicate column names in the dataframe\n"
          ]
        }
      ]
    },
    {
      "cell_type": "code",
      "source": [
        "df = df.loc[:, ~df.columns.duplicated()]"
      ],
      "metadata": {
        "id": "ZZ7_IHlsWVqM"
      },
      "execution_count": 40,
      "outputs": []
    },
    {
      "cell_type": "markdown",
      "source": [
        "## Save Pre-Processed to CSV"
      ],
      "metadata": {
        "id": "WaQ8tuX1K8aW"
      }
    },
    {
      "cell_type": "code",
      "source": [
        "#df.to_csv('/content/pre_processed_data.csv', index=False)"
      ],
      "metadata": {
        "id": "JAlhz9RvLFOo"
      },
      "execution_count": 69,
      "outputs": []
    },
    {
      "cell_type": "code",
      "source": [
        "#df = pd.read_csv(\"/content/pre_processed_data.csv\")"
      ],
      "metadata": {
        "id": "hO3X4oVKa_ZD"
      },
      "execution_count": 20,
      "outputs": []
    },
    {
      "cell_type": "code",
      "source": [
        "if df.columns.duplicated().any():\n",
        "    print(\"There are duplicate column names in the dataframe\")\n",
        "else:\n",
        "    print(\"There are no duplicate column names in the dataframe\")"
      ],
      "metadata": {
        "colab": {
          "base_uri": "https://localhost:8080/"
        },
        "id": "48RKz-vccy6l",
        "outputId": "031d5cd2-faac-45c2-893b-829e65604b77"
      },
      "execution_count": 41,
      "outputs": [
        {
          "output_type": "stream",
          "name": "stdout",
          "text": [
            "There are no duplicate column names in the dataframe\n"
          ]
        }
      ]
    },
    {
      "cell_type": "code",
      "source": [
        "print(df.shape)"
      ],
      "metadata": {
        "colab": {
          "base_uri": "https://localhost:8080/"
        },
        "id": "w2VFdnrEdJf0",
        "outputId": "1da03466-fede-44e6-881e-33106097f15e"
      },
      "execution_count": 43,
      "outputs": [
        {
          "output_type": "stream",
          "name": "stdout",
          "text": [
            "(178, 476)\n"
          ]
        }
      ]
    },
    {
      "cell_type": "markdown",
      "source": [
        "## K-Means Clustering"
      ],
      "metadata": {
        "id": "DgczlrxKnyth"
      }
    },
    {
      "cell_type": "markdown",
      "source": [
        "### Determine the Optimal Number of Clusters"
      ],
      "metadata": {
        "id": "MKZV3T1Gn46q"
      }
    },
    {
      "cell_type": "markdown",
      "source": [
        "#### Elbow Plot"
      ],
      "metadata": {
        "id": "YFs6VcstwCXW"
      }
    },
    {
      "cell_type": "code",
      "source": [
        "wss = []\n",
        "for i in range(1, 11):\n",
        "    kmeans = KMeans(n_clusters=i, init='k-means++', max_iter=300, n_init=10, random_state=0)\n",
        "    kmeans.fit(df)\n",
        "    wss.append(kmeans.inertia_)\n",
        "plt.plot(range(1, 11), wss)\n",
        "plt.title('Elbow Method')\n",
        "plt.xlabel('Number of Clusters')\n",
        "plt.ylabel('WSS')\n",
        "plt.show()"
      ],
      "metadata": {
        "colab": {
          "base_uri": "https://localhost:8080/",
          "height": 472
        },
        "id": "j6dkPTOvn078",
        "outputId": "eccf875d-898f-4bc8-b26d-e8a8d8fc640c"
      },
      "execution_count": 44,
      "outputs": [
        {
          "output_type": "display_data",
          "data": {
            "text/plain": [
              "<Figure size 640x480 with 1 Axes>"
            ],
            "image/png": "[encoded data removed]"
          },
          "metadata": {}
        }
      ]
    },
    {
      "cell_type": "code",
      "source": [
        "kl = KneeLocator(range(1, 11), wss, curve=\"convex\", direction=\"decreasing\")\n",
        "kl.elbow"
      ],
      "metadata": {
        "colab": {
          "base_uri": "https://localhost:8080/"
        },
        "id": "W5Tj_Jm0wYeX",
        "outputId": "687212b5-61ca-4b46-c143-617bb8f9646e"
      },
      "execution_count": 45,
      "outputs": [
        {
          "output_type": "execute_result",
          "data": {
            "text/plain": [
              "3"
            ]
          },
          "metadata": {},
          "execution_count": 45
        }
      ]
    },
    {
      "cell_type": "markdown",
      "source": [
        "#### Silhouette Coefficient"
      ],
      "metadata": {
        "id": "jF1PgtwMwLdm"
      }
    },
    {
      "cell_type": "code",
      "source": [
        "silhouette_coefficients = []\n",
        "for i in range(2, 11):\n",
        "    kmeans = KMeans(n_clusters=i, init='k-means++', max_iter=300, n_init=10, random_state=0)\n",
        "    kmeans.fit(df)\n",
        "    score = silhouette_score(df, kmeans.labels_)\n",
        "    silhouette_coefficients.append(score)\n",
        "plt.plot(range(2, 11), silhouette_coefficients)\n",
        "plt.title('Silhouette Method')\n",
        "plt.xticks(range(2, 11))\n",
        "plt.xlabel(\"Number of Clusters\")\n",
        "plt.ylabel(\"Silhouette Coefficient\")\n",
        "plt.show()"
      ],
      "metadata": {
        "colab": {
          "base_uri": "https://localhost:8080/",
          "height": 472
        },
        "id": "hColCQP2w38Q",
        "outputId": "7d7ba819-05ba-400e-9527-5720271ab12c"
      },
      "execution_count": 29,
      "outputs": [
        {
          "output_type": "display_data",
          "data": {
            "text/plain": [
              "<Figure size 640x480 with 1 Axes>"
            ],
            "image/png": "[encoded data removed]"
          },
          "metadata": {}
        }
      ]
    },
    {
      "cell_type": "markdown",
      "source": [
        "Choose k = 3"
      ],
      "metadata": {
        "id": "XcUrklNvp677"
      }
    },
    {
      "cell_type": "markdown",
      "source": [
        "### K-Means Modeling"
      ],
      "metadata": {
        "id": "caKNpqV4qlvy"
      }
    },
    {
      "cell_type": "code",
      "source": [
        "num_clusters = 3\n",
        "kmeans = KMeans(n_clusters=num_clusters, random_state=0)\n",
        "kmeans.fit(df)"
      ],
      "metadata": {
        "colab": {
          "base_uri": "https://localhost:8080/",
          "height": 129
        },
        "id": "IT-kb1cDr1dU",
        "outputId": "86c818d4-81f4-45cf-ea29-afa177455ede"
      },
      "execution_count": 46,
      "outputs": [
        {
          "output_type": "stream",
          "name": "stderr",
          "text": [
            "/usr/local/lib/python3.9/dist-packages/sklearn/cluster/_kmeans.py:870: FutureWarning: The default value of `n_init` will change from 10 to 'auto' in 1.4. Set the value of `n_init` explicitly to suppress the warning\n",
            "  warnings.warn(\n"
          ]
        },
        {
          "output_type": "execute_result",
          "data": {
            "text/plain": [
              "KMeans(n_clusters=3, random_state=0)"
            ],
            "text/html": [
              "<style>#sk-container-id-2 {color: black;background-color: white;}#sk-container-id-2 pre{padding: 0;}#sk-container-id-2 div.sk-toggleable {background-color: white;}#sk-container-id-2 label.sk-toggleable__label {cursor: pointer;display: block;width: 100%;margin-bottom: 0;padding: 0.3em;box-sizing: border-box;text-align: center;}#sk-container-id-2 label.sk-toggleable__label-arrow:before {content: \"▸\";float: left;margin-right: 0.25em;color: #696969;}#sk-container-id-2 label.sk-toggleable__label-arrow:hover:before {color: black;}#sk-container-id-2 div.sk-estimator:hover label.sk-toggleable__label-arrow:before {color: black;}#sk-container-id-2 div.sk-toggleable__content {max-height: 0;max-width: 0;overflow: hidden;text-align: left;background-color: #f0f8ff;}#sk-container-id-2 div.sk-toggleable__content pre {margin: 0.2em;color: black;border-radius: 0.25em;background-color: #f0f8ff;}#sk-container-id-2 input.sk-toggleable__control:checked~div.sk-toggleable__content {max-height: 200px;max-width: 100%;overflow: auto;}#sk-container-id-2 input.sk-toggleable__control:checked~label.sk-toggleable__label-arrow:before {content: \"▾\";}#sk-container-id-2 div.sk-estimator input.sk-toggleable__control:checked~label.sk-toggleable__label {background-color: #d4ebff;}#sk-container-id-2 div.sk-label input.sk-toggleable__control:checked~label.sk-toggleable__label {background-color: #d4ebff;}#sk-container-id-2 input.sk-hidden--visually {border: 0;clip: rect(1px 1px 1px 1px);clip: rect(1px, 1px, 1px, 1px);height: 1px;margin: -1px;overflow: hidden;padding: 0;position: absolute;width: 1px;}#sk-container-id-2 div.sk-estimator {font-family: monospace;background-color: #f0f8ff;border: 1px dotted black;border-radius: 0.25em;box-sizing: border-box;margin-bottom: 0.5em;}#sk-container-id-2 div.sk-estimator:hover {background-color: #d4ebff;}#sk-container-id-2 div.sk-parallel-item::after {content: \"\";width: 100%;border-bottom: 1px solid gray;flex-grow: 1;}#sk-container-id-2 div.sk-label:hover label.sk-toggleable__label {background-color: #d4ebff;}#sk-container-id-2 div.sk-serial::before {content: \"\";position: absolute;border-left: 1px solid gray;box-sizing: border-box;top: 0;bottom: 0;left: 50%;z-index: 0;}#sk-container-id-2 div.sk-serial {display: flex;flex-direction: column;align-items: center;background-color: white;padding-right: 0.2em;padding-left: 0.2em;position: relative;}#sk-container-id-2 div.sk-item {position: relative;z-index: 1;}#sk-container-id-2 div.sk-parallel {display: flex;align-items: stretch;justify-content: center;background-color: white;position: relative;}#sk-container-id-2 div.sk-item::before, #sk-container-id-2 div.sk-parallel-item::before {content: \"\";position: absolute;border-left: 1px solid gray;box-sizing: border-box;top: 0;bottom: 0;left: 50%;z-index: -1;}#sk-container-id-2 div.sk-parallel-item {display: flex;flex-direction: column;z-index: 1;position: relative;background-color: white;}#sk-container-id-2 div.sk-parallel-item:first-child::after {align-self: flex-end;width: 50%;}#sk-container-id-2 div.sk-parallel-item:last-child::after {align-self: flex-start;width: 50%;}#sk-container-id-2 div.sk-parallel-item:only-child::after {width: 0;}#sk-container-id-2 div.sk-dashed-wrapped {border: 1px dashed gray;margin: 0 0.4em 0.5em 0.4em;box-sizing: border-box;padding-bottom: 0.4em;background-color: white;}#sk-container-id-2 div.sk-label label {font-family: monospace;font-weight: bold;display: inline-block;line-height: 1.2em;}#sk-container-id-2 div.sk-label-container {text-align: center;}#sk-container-id-2 div.sk-container {/* jupyter's `normalize.less` sets `[hidden] { display: none; }` but bootstrap.min.css set `[hidden] { display: none !important; }` so we also need the `!important` here to be able to override the default hidden behavior on the sphinx rendered scikit-learn.org. See: https://github.com/scikit-learn/scikit-learn/issues/21755 */display: inline-block !important;position: relative;}#sk-container-id-2 div.sk-text-repr-fallback {display: none;}</style><div id=\"sk-container-id-2\" class=\"sk-top-container\"><div class=\"sk-text-repr-fallback\"><pre>KMeans(n_clusters=3, random_state=0)</pre><b>In a Jupyter environment, please rerun this cell to show the HTML representation or trust the notebook. <br />On GitHub, the HTML representation is unable to render, please try loading this page with nbviewer.org.</b></div><div class=\"sk-container\" hidden><div class=\"sk-item\"><div class=\"sk-estimator sk-toggleable\"><input class=\"sk-toggleable__control sk-hidden--visually\" id=\"sk-estimator-id-2\" type=\"checkbox\" checked><label for=\"sk-estimator-id-2\" class=\"sk-toggleable__label sk-toggleable__label-arrow\">KMeans</label><div class=\"sk-toggleable__content\"><pre>KMeans(n_clusters=3, random_state=0)</pre></div></div></div></div></div>"
            ]
          },
          "metadata": {},
          "execution_count": 46
        }
      ]
    },
    {
      "cell_type": "code",
      "source": [
        "labels = kmeans.labels_\n",
        "df['cluster'] = labels\n"
      ],
      "metadata": {
        "id": "oaqoCqdgs9Zm"
      },
      "execution_count": 47,
      "outputs": []
    },
    {
      "cell_type": "markdown",
      "source": [
        "### Feature Importances"
      ],
      "metadata": {
        "id": "NcoqQbN4Kzle"
      }
    },
    {
      "cell_type": "code",
      "source": [
        "feature_names = df.drop(columns=['cluster']).columns \n",
        "\n",
        "centroids = kmeans.cluster_centers_\n",
        "differences = []\n",
        "for i in range(num_clusters):\n",
        "    for j in range(i+1, num_clusters):\n",
        "        diff = np.abs(centroids[i] - centroids[j])\n",
        "        differences.append(diff)\n",
        "differences = np.array(differences)\n",
        "feature_importance = pd.DataFrame(differences.sum(axis=0), columns=['importance'], index=feature_names)\n",
        "feature_importance = feature_importance.sort_values(by='importance', ascending=False)\n",
        "feature_importance = feature_importance.loc[~feature_importance.index.duplicated(keep='first')]\n",
        "print(feature_importance)"
      ],
      "metadata": {
        "colab": {
          "base_uri": "https://localhost:8080/"
        },
        "id": "pJKdUxjMK02u",
        "outputId": "146bb127-31c8-4bfa-8d3f-7ccbc4fe158f"
      },
      "execution_count": 48,
      "outputs": [
        {
          "output_type": "stream",
          "name": "stdout",
          "text": [
            "                                                    importance\n",
            "taxonomy                                                      \n",
            "Bacteria; __Proteobacteria; __Gammaproteobacter...    1.031693\n",
            "Bacteria; __Bacteroidetes; __Bacteroidia; __Bac...    0.591894\n",
            "Bacteria; __Firmicutes; __Clostridia; __Clostri...    0.096494\n",
            "Bacteria; __Proteobacteria; __Betaproteobacteri...    0.059451\n",
            "Bacteria; __Firmicutes; __Clostridia; __Clostri...    0.041921\n",
            "...                                                        ...\n",
            "Bacteria; __Nitrospirae; __Nitrospira; __Nitros...    0.000000\n",
            "Bacteria; __Bacteroidetes; __Cytophagia; __Cyto...    0.000000\n",
            "Bacteria; __Actinobacteria; __Actinobacteria; _...    0.000000\n",
            "Bacteria; __Actinobacteria; __Actinobacteria; _...    0.000000\n",
            "Bacteria; __Cyanobacteria; __ML635J_21; __o; __...    0.000000\n",
            "\n",
            "[476 rows x 1 columns]\n"
          ]
        }
      ]
    },
    {
      "cell_type": "code",
      "source": [
        "print(feature_importance.index)"
      ],
      "metadata": {
        "colab": {
          "base_uri": "https://localhost:8080/"
        },
        "id": "t5zAvONhQs2X",
        "outputId": "d24e79ef-6f6f-4756-8e17-23b10ce6a64c"
      },
      "execution_count": 49,
      "outputs": [
        {
          "output_type": "stream",
          "name": "stdout",
          "text": [
            "Index(['Bacteria; __Proteobacteria; __Gammaproteobacteria; __Enterobacteriales; __Enterobacteriaceae; __Escherichia_Shigella',\n",
            "       'Bacteria; __Bacteroidetes; __Bacteroidia; __Bacteroidales; __Bacteroidaceae; __Bacteroides',\n",
            "       'Bacteria; __Firmicutes; __Clostridia; __Clostridiales; __Lachnospiraceae; ___Eubacterium_rectale_group',\n",
            "       'Bacteria; __Proteobacteria; __Betaproteobacteria; __Burkholderiales; __Oxalobacteraceae; __Massilia',\n",
            "       'Bacteria; __Firmicutes; __Clostridia; __Clostridiales; __Lachnospiraceae; __Anaerostipes',\n",
            "       'Bacteria; __Firmicutes; __Clostridia; __Clostridiales; __Lachnospiraceae; __Roseburia',\n",
            "       'Bacteria; __Firmicutes; __Clostridia; __Clostridiales; __Lachnospiraceae; __Epulopiscium',\n",
            "       'Bacteria; __Proteobacteria; __Gammaproteobacteria; __Enterobacteriales; __Enterobacteriaceae; __Citrobacter',\n",
            "       'Bacteria; __Bacteroidetes; __Bacteroidia; __Bacteroidales; __Porphyromonadaceae; __Parabacteroides',\n",
            "       'Bacteria; __Firmicutes; __Clostridia; __Clostridiales; __Lachnospiraceae; ___Ruminococcus_gnavus_group',\n",
            "       ...\n",
            "       'Bacteria; __Firmicutes; __Erysipelotrichia; __Erysipelotrichales; __Erysipelotrichaceae; __Erysipelatoclostridium',\n",
            "       'Bacteria; __Proteobacteria; __Deltaproteobacteria; __Myxococcales; __uncultured; __g',\n",
            "       'Bacteria; __Proteobacteria; __Betaproteobacteria; __Neisseriales; __Neisseriaceae; __Vogesella',\n",
            "       'Bacteria; __Proteobacteria; __Deltaproteobacteria; __Myxococcales; __Myxococcaceae; __uncultured',\n",
            "       'Bacteria; __Proteobacteria; __Alphaproteobacteria; __Rhizobiales; __Methylobacteriaceae; __Psychroglaciecola',\n",
            "       'Bacteria; __Nitrospirae; __Nitrospira; __Nitrospirales; __Nitrospiraceae; __Nitrospira',\n",
            "       'Bacteria; __Bacteroidetes; __Cytophagia; __Cytophagales; __Cytophagaceae; __Nibribacter',\n",
            "       'Bacteria; __Actinobacteria; __Actinobacteria; __Micromonosporales; __Micromonosporaceae; __Luedemannella',\n",
            "       'Bacteria; __Actinobacteria; __Actinobacteria; __Micrococcales; __Micrococcaceae; __Enteractinococcus',\n",
            "       'Bacteria; __Cyanobacteria; __ML635J_21; __o; __f; __g'],\n",
            "      dtype='object', name='taxonomy', length=476)\n"
          ]
        }
      ]
    },
    {
      "cell_type": "markdown",
      "source": [
        "## Visualization"
      ],
      "metadata": {
        "id": "IvRjjALpPer3"
      }
    },
    {
      "cell_type": "markdown",
      "source": [
        "### Box Plots"
      ],
      "metadata": {
        "id": "h1KNEiUSRhrH"
      }
    },
    {
      "cell_type": "markdown",
      "source": [
        "#### Escherichia_Shigella"
      ],
      "metadata": {
        "id": "WwFxw_eqRq4X"
      }
    },
    {
      "cell_type": "code",
      "source": [
        "cluster_groups = df.groupby('cluster')\n",
        "feature_data = [cluster_groups.get_group(cluster_label)['Bacteria; __Proteobacteria; __Gammaproteobacteria; __Enterobacteriales; __Enterobacteriaceae; __Escherichia_Shigella'].values for cluster_label in cluster_groups.groups]\n",
        "fig, ax = plt.subplots()\n",
        "ax.boxplot(feature_data)\n",
        "ax.set_xticklabels(cluster_groups.groups.keys())\n",
        "ax.set_ylabel('Abundance')\n",
        "ax.set_xlabel('Cluster')\n",
        "ax.set_title('Distribution of Escherichia_Shigella by Cluster')"
      ],
      "metadata": {
        "colab": {
          "base_uri": "https://localhost:8080/",
          "height": 489
        },
        "id": "YotKVh5aRixJ",
        "outputId": "cd7d9640-d9f6-4fee-89fa-b9b7a1ddf60f"
      },
      "execution_count": 50,
      "outputs": [
        {
          "output_type": "execute_result",
          "data": {
            "text/plain": [
              "Text(0.5, 1.0, 'Distribution of Escherichia_Shigella by Cluster')"
            ]
          },
          "metadata": {},
          "execution_count": 50
        },
        {
          "output_type": "display_data",
          "data": {
            "text/plain": [
              "<Figure size 640x480 with 1 Axes>"
            ],
            "image/png": "[encoded data removed]"
          },
          "metadata": {}
        }
      ]
    },
    {
      "cell_type": "markdown",
      "source": [
        "#### Bacteroides"
      ],
      "metadata": {
        "id": "7Ynic8vEzVVz"
      }
    },
    {
      "cell_type": "code",
      "source": [
        "cluster_groups = df.groupby('cluster')\n",
        "feature_data = [cluster_groups.get_group(cluster_label)['Bacteria; __Bacteroidetes; __Bacteroidia; __Bacteroidales; __Bacteroidaceae; __Bacteroides'].values for cluster_label in cluster_groups.groups]\n",
        "fig, ax = plt.subplots()\n",
        "ax.boxplot(feature_data)\n",
        "ax.set_xticklabels(cluster_groups.groups.keys())\n",
        "ax.set_ylabel('Abundance')\n",
        "ax.set_xlabel('Cluster')\n",
        "ax.set_title('Distribution of Bacteroides by Cluster')"
      ],
      "metadata": {
        "colab": {
          "base_uri": "https://localhost:8080/",
          "height": 489
        },
        "id": "gPy1uyF1zXlm",
        "outputId": "421dc97b-8099-4823-e389-5e42ed82aef8"
      },
      "execution_count": 51,
      "outputs": [
        {
          "output_type": "execute_result",
          "data": {
            "text/plain": [
              "Text(0.5, 1.0, 'Distribution of Bacteroides by Cluster')"
            ]
          },
          "metadata": {},
          "execution_count": 51
        },
        {
          "output_type": "display_data",
          "data": {
            "text/plain": [
              "<Figure size 640x480 with 1 Axes>"
            ],
            "image/png": "[encoded data removed]"
          },
          "metadata": {}
        }
      ]
    },
    {
      "cell_type": "markdown",
      "source": [
        "#### Eubacterium_rectale_group"
      ],
      "metadata": {
        "id": "1HTVuz2xz9fK"
      }
    },
    {
      "cell_type": "code",
      "source": [
        "# Bacteria; __Firmicutes; __Clostridia; __Clostridiales; __Lachnospiraceae; ___Eubacterium_rectale_group\n",
        "cluster_groups = df.groupby('cluster')\n",
        "feature_data = [cluster_groups.get_group(cluster_label)['Bacteria; __Firmicutes; __Clostridia; __Clostridiales; __Lachnospiraceae; ___Eubacterium_rectale_group'].values for cluster_label in cluster_groups.groups]\n",
        "fig, ax = plt.subplots()\n",
        "ax.boxplot(feature_data)\n",
        "ax.set_xticklabels(cluster_groups.groups.keys())\n",
        "ax.set_ylabel('Abundance')\n",
        "ax.set_xlabel('Cluster')\n",
        "ax.set_title('Distribution of Eubacterium_rectale_group by Cluster')"
      ],
      "metadata": {
        "colab": {
          "base_uri": "https://localhost:8080/",
          "height": 489
        },
        "id": "0dVZSTgV0BAZ",
        "outputId": "c9634279-eb4b-4473-c7cd-0294ca02b1f0"
      },
      "execution_count": 52,
      "outputs": [
        {
          "output_type": "execute_result",
          "data": {
            "text/plain": [
              "Text(0.5, 1.0, 'Distribution of Eubacterium_rectale_group by Cluster')"
            ]
          },
          "metadata": {},
          "execution_count": 52
        },
        {
          "output_type": "display_data",
          "data": {
            "text/plain": [
              "<Figure size 640x480 with 1 Axes>"
            ],
            "image/png": "[encoded data removed]"
          },
          "metadata": {}
        }
      ]
    },
    {
      "cell_type": "markdown",
      "source": [
        "#### Oxalobacteraceae; __Massilia"
      ],
      "metadata": {
        "id": "XdPucMtm1Asp"
      }
    },
    {
      "cell_type": "code",
      "source": [
        "# Bacteria; __Proteobacteria; __Betaproteobacteria; __Burkholderiales; __Oxalobacteraceae; __Massilia\n",
        "cluster_groups = df.groupby('cluster')\n",
        "feature_data = [cluster_groups.get_group(cluster_label)['Bacteria; __Proteobacteria; __Betaproteobacteria; __Burkholderiales; __Oxalobacteraceae; __Massilia'].values for cluster_label in cluster_groups.groups]\n",
        "fig, ax = plt.subplots()\n",
        "ax.boxplot(feature_data)\n",
        "ax.set_xticklabels(cluster_groups.groups.keys())\n",
        "ax.set_ylabel('Abundance')\n",
        "ax.set_xlabel('Cluster')\n",
        "ax.set_title('Distribution of Oxalobacteraceae; __Massilia by Cluster')"
      ],
      "metadata": {
        "colab": {
          "base_uri": "https://localhost:8080/",
          "height": 489
        },
        "id": "n94WkSsW1DhG",
        "outputId": "6009a7c2-f5de-4030-87e9-38aa2dd57dbe"
      },
      "execution_count": 53,
      "outputs": [
        {
          "output_type": "execute_result",
          "data": {
            "text/plain": [
              "Text(0.5, 1.0, 'Distribution of Oxalobacteraceae; __Massilia by Cluster')"
            ]
          },
          "metadata": {},
          "execution_count": 53
        },
        {
          "output_type": "display_data",
          "data": {
            "text/plain": [
              "<Figure size 640x480 with 1 Axes>"
            ],
            "image/png": "[encoded data removed]"
          },
          "metadata": {}
        }
      ]
    }
  ]
}